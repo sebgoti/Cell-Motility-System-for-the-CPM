{
 "cells": [
  {
   "cell_type": "code",
   "execution_count": 7,
   "metadata": {},
   "outputs": [
    {
     "name": "stderr",
     "output_type": "stream",
     "text": [
      "ERROR:External:Install rpy2 to enable simple support for the R language.\n"
     ]
    }
   ],
   "source": [
    "import pyabc\n",
    "import fitmulticell as fmc\n",
    "import scipy as sp\n",
    "from scipy import stats\n",
    "import numpy as np\n",
    "import pandas as pd\n",
    "import os\n",
    "import tempfile\n",
    "%matplotlib inline\n",
    "import matplotlib.pyplot as plt\n",
    "import tidynamics                     # to get sliding history stats in N*logN instead of N^2\n",
    "from pyabc import SingleCoreSampler\n",
    "\n",
    "import seaborn as sns"
   ]
  },
  {
   "cell_type": "markdown",
   "metadata": {},
   "source": [
    "Define auxiliary functions for SSs:"
   ]
  },
  {
   "cell_type": "code",
   "execution_count": 12,
   "metadata": {},
   "outputs": [],
   "source": [
    "# Directionality ratio:\n",
    "def distDR(R_data):\n",
    "    D = 0\n",
    "    N_total = len(R_data)\n",
    "    Dr = np.zeros(N_total-1)\n",
    "    for i in range(N_total-1):\n",
    "        d = np.linalg.norm(R_data[i+1] - R_data[0])\n",
    "        D += np.linalg.norm(R_data[i+1] - R_data[i])\n",
    "        Dr[i] = d / D\n",
    "    return Dr\n",
    "\n",
    "# Radius of gyration:\n",
    "def distRG(R_data, time_interval=100):\n",
    "    \"\"\"\n",
    "    Calculates the radius of gyration for R_data corresponding to a single trajectory over time.\n",
    "    # Data structure:\n",
    "    -> R_data: N_steps x 2\n",
    "    \"\"\"\n",
    "    N_total = len(R_data)\n",
    "    Rg = np.zeros(N_total)\n",
    "    for i in range(N_total-1):\n",
    "        R_cm = sum(R_data[:i+2]) / (i+2)\n",
    "        #print(R_cm)\n",
    "        Rg[i+1] = (sum((R_data[:i+2] - R_cm)**2)).sum() / ((i+1)*time_interval)\n",
    "    Rg[0] = 0\n",
    "    return np.sqrt(Rg)\n",
    "\n",
    "# Heterogeneity ratio:\n",
    "def distHR(dataset_msd, time_interval=50):\n",
    "    N = len(dataset_msd)\n",
    "    M2 = np.zeros(N)\n",
    "    HR = np.zeros(N)\n",
    "    for i in range(N-1):\n",
    "        M2[i+1] = np.var(dataset_msd[:i+2])\n",
    "        #print(M2[i+1])\n",
    "    HR[1:] = M2[1:]/dataset_msd[1:]**2\n",
    "    return HR"
   ]
  },
  {
   "cell_type": "markdown",
   "metadata": {},
   "source": [
    "Define all SS functions:"
   ]
  },
  {
   "cell_type": "code",
   "execution_count": 56,
   "metadata": {},
   "outputs": [],
   "source": [
    "# Time-averaged mean square displacement:\n",
    "def distanceMSD(val1, val2):\n",
    "    diff = tidynamics.msd(np.column_stack([val1['IdSumstat__cell.center.x'][t_init:],val1['IdSumstat__cell.center.y'][t_init:]])) - val2['IdSumstat__MSD']\n",
    "    d = np.sqrt(np.sum(diff**2))\n",
    "    return d\n",
    "\n",
    "# Direction autocorrelation function:\n",
    "def distanceVAC(val1, val2):\n",
    "    diff = tidynamics.acf(np.column_stack([val1['IdSumstat__velocity.x'][t_init:],val1['IdSumstat__velocity.y'][t_init:]])) - val2['IdSumstat__VAC']\n",
    "    d = np.sqrt(np.sum(diff**2))\n",
    "    return d\n",
    "\n",
    "# Directionality ratio:\n",
    "def distanceDR(val1, val2):\n",
    "    diff = distDR(np.column_stack([val1['IdSumstat__cell.center.x'][t_init:],val1['IdSumstat__cell.center.y'][t_init:]])) - val2['IdSumstat__DR']\n",
    "    d = np.sqrt(np.sum(diff**2))\n",
    "    return d\n",
    "\n",
    "# Radius of Gyration:\n",
    "def distanceRG(val1, val2):\n",
    "    R = distRG(np.column_stack([val1['IdSumstat__cell.center.x'][t_init:],val1['IdSumstat__cell.center.y'][t_init:]]))\n",
    "    d = np.sqrt(np.sum((R - val2['IdSumstat__RG'])**2))\n",
    "    return d\n",
    "\n",
    "# Heterogeneity ratio:\n",
    "def distanceHR(val1, val2):\n",
    "    diff = distHR(tidynamics.msd(np.column_stack([val1['IdSumstat__cell.center.x'][t_init:],val1['IdSumstat__cell.center.y'][t_init:]]))) - val2['IdSumstat__HR']\n",
    "    d = np.sqrt(np.sum(diff**2))\n",
    "    return d\n",
    "\n"
   ]
  },
  {
   "cell_type": "markdown",
   "metadata": {},
   "source": [
    "Create \"measured data\" with each SS function."
   ]
  },
  {
   "cell_type": "code",
   "execution_count": 8,
   "metadata": {},
   "outputs": [
    {
     "name": "stdout",
     "output_type": "stream",
     "text": [
      "MorpheusModel {\n",
      "\tname      : Demo_CellMotility.xml\n",
      "}\n"
     ]
    }
   ],
   "source": [
    "file_ = \"Demo_CellMotility.xml\"\n",
    "par_map = {'motion_strength': './Global/Constant[@symbol=\"motion_strength\"]',\n",
    "           'noise_level': './Global/Constant[@symbol=\"noise_level\"]'}\n",
    "model = fmc.model.MorpheusModel(\n",
    "    file_, par_map=par_map,\n",
    "    #executable=\"/Applications/Morpheus.app/Contents/MacOS/bin/morpheus\",\n",
    "    executable=\"/Applications/Morpheus.app/Contents/MacOS/morpheus\",\n",
    "    show_stdout=False, show_stderr=True,\n",
    "    raise_on_error=False)\n",
    "\n",
    "print(model)\n",
    "\n",
    "true_pars = {'motion_strength': 1.0, 'noise_level': 0.1}"
   ]
  },
  {
   "cell_type": "code",
   "execution_count": 15,
   "metadata": {},
   "outputs": [],
   "source": [
    "N = 100\n",
    "tot_time = 5\n",
    "t_init = 1\n",
    "arrayMSD = np.zeros((N, tot_time))\n",
    "arrayVAC = np.zeros((N, tot_time))\n",
    "arrayDR = np.zeros((N, tot_time-1))\n",
    "arrayRG = np.zeros((N, tot_time))\n",
    "arrayHR = np.zeros((N, tot_time))\n",
    "\n",
    "for i in range(N):\n",
    "    simulated_data = model.sample(true_pars)\n",
    "    val1vec = np.column_stack([simulated_data['IdSumstat__cell.center.x'][t_init:],simulated_data['IdSumstat__cell.center.y'][t_init:]])\n",
    "    val1vecmsd = tidynamics.msd(val1vec)\n",
    "    arrayMSD[i] = val1vecmsd\n",
    "    arrayVAC[i] = tidynamics.acf(np.column_stack([simulated_data['IdSumstat__velocity.x'][t_init:],simulated_data['IdSumstat__velocity.y'][t_init:]]))\n",
    "    arrayDR[i] = distDR(val1vec)\n",
    "    arrayRG[i] = distRG(val1vec)\n",
    "    arrayHR[i] = distHR(val1vecmsd)"
   ]
  },
  {
   "cell_type": "markdown",
   "metadata": {},
   "source": []
  },
  {
   "cell_type": "code",
   "execution_count": 16,
   "metadata": {},
   "outputs": [],
   "source": [
    "MSD = np.array([arrayMSD[:,i].mean() for i in range(5)])\n",
    "VAC = np.array([arrayVAC[:,i].mean() for i in range(5)])\n",
    "DR = np.array([arrayDR[:,i].mean() for i in range(4)])\n",
    "RG = np.array([arrayRG[:,i].mean() for i in range(5)])\n",
    "HR = np.array([arrayHR[:,i].mean() for i in range(5)])\n",
    "measured_data = {'IdSumstat__time': np.array([0, 100, 200, 300, 400]),\\\n",
    "                 'IdSumstat__MSD': MSD,\\\n",
    "                 'IdSumstat__VAC':VAC,\\\n",
    "                 'IdSumstat__DR': DR,\\\n",
    "                 'IdSumstat__RG': RG,\\\n",
    "                 'IdSumstat__HR': HR}"
   ]
  },
  {
   "cell_type": "code",
   "execution_count": 17,
   "metadata": {},
   "outputs": [
    {
     "data": {
      "text/plain": [
       "{'IdSumstat__time': array([  0, 100, 200, 300, 400]),\n",
       " 'IdSumstat__MSD': array([-1.44063961e-11,  1.32961072e+03,  4.17154345e+03,  7.15768304e+03,\n",
       "         9.62810645e+03]),\n",
       " 'IdSumstat__VAC': array([ 0.18938391,  0.07832915,  0.01327382, -0.0270964 , -0.02898262]),\n",
       " 'IdSumstat__DR': array([1.        , 0.88730423, 0.78037545, 0.67007898]),\n",
       " 'IdSumstat__RG': array([0.        , 2.83729963, 3.64838835, 4.16604039, 4.47876779]),\n",
       " 'IdSumstat__HR': array([0.        , 0.25      , 0.17406237, 0.16304497, 0.41891339])}"
      ]
     },
     "execution_count": 17,
     "metadata": {},
     "output_type": "execute_result"
    }
   ],
   "source": [
    "measured_data"
   ]
  },
  {
   "cell_type": "markdown",
   "metadata": {},
   "source": [
    "## Define the pipeline as a function:"
   ]
  },
  {
   "cell_type": "code",
   "execution_count": null,
   "metadata": {},
   "outputs": [],
   "source": []
  },
  {
   "cell_type": "code",
   "execution_count": 19,
   "metadata": {},
   "outputs": [],
   "source": [
    "def fmc_mot_pipeline(file_name, t_init, time_interval, populations, dist_functions):\n",
    "    file_ = file_name#\"Demo_CellMotility.xml\"\n",
    "    par_map = {'motion_strength': './Global/Constant[@symbol=\"motion_strength\"]',\n",
    "               'noise_level': './Global/Constant[@symbol=\"noise_level\"]'}\n",
    "    model = fmc.model.MorpheusModel(\n",
    "        file_, par_map=par_map,\n",
    "        #executable=\"/Applications/Morpheus.app/Contents/MacOS/bin/morpheus\",\n",
    "        executable=\"/Applications/Morpheus.app/Contents/MacOS/morpheus\",\n",
    "        show_stdout=False, show_stderr=True,\n",
    "        raise_on_error=False)\n",
    "\n",
    "    print(model)\n",
    "    \n",
    "    limits = {key: (0.1 * val, 10 * val) for key, val in true_pars.items()}\n",
    "\n",
    "    prior = pyabc.Distribution(**{key: pyabc.RV(\"uniform\", lb, ub - lb)\n",
    "                                  for key, (lb, ub) in limits.items()})\n",
    "    #true_pars = {'motion_strength': 1.0, 'noise_level': 0.1}\n",
    "    distance = pyabc.AdaptiveAggregatedDistance(dist_functions, adaptive=False)\n",
    "    \n",
    "    abc = pyabc.ABCSMC(model, prior, distance, population_size=100)\n",
    "    # Store specific db_path:\n",
    "    db_path = \"sqlite:///\" + os.path.join(tempfile.gettempdir(), \"test.db\")\n",
    "    history = abc.new(db_path, measured_data)\n",
    "    abc.run(max_nr_populations=populations)\n",
    "    h = pyabc.History(db_path)\n",
    "    return h"
   ]
  },
  {
   "cell_type": "markdown",
   "metadata": {},
   "source": [
    "## Test it works properly:"
   ]
  },
  {
   "cell_type": "code",
   "execution_count": 32,
   "metadata": {},
   "outputs": [
    {
     "name": "stderr",
     "output_type": "stream",
     "text": [
      "INFO:Sampler:Parallelizing the sampling on 4 cores.\n",
      "INFO:History:Start <ABCSMC(id=25, start_time=2021-01-08 14:34:58.092331, end_time=None)>\n",
      "INFO:ABC:Calibration sample before t=0.\n"
     ]
    },
    {
     "name": "stdout",
     "output_type": "stream",
     "text": [
      "MorpheusModel {\n",
      "\tname      : Demo_CellMotility.xml\n",
      "}\n"
     ]
    },
    {
     "name": "stderr",
     "output_type": "stream",
     "text": [
      "INFO:Epsilon:initial epsilon is 0.0003638579980012269\n",
      "INFO:ABC:t: 0, eps: 0.0003638579980012269.\n",
      "INFO:ABC:Acceptance rate: 100 / 208 = 4.8077e-01, ESS=1.0000e+02.\n",
      "INFO:pyabc.util:Stopping: maximum number of generations.\n",
      "INFO:History:Done <ABCSMC(id=25, start_time=2021-01-08 14:34:58.092331, end_time=2021-01-08 14:39:36.115165)>\n"
     ]
    }
   ],
   "source": [
    "data = fmc_mot_pipeline(\"Demo_CellMotility.xml\", t_init=1, time_interval=100, populations=1, dist_functions=[d1, d2])"
   ]
  },
  {
   "cell_type": "code",
   "execution_count": 24,
   "metadata": {},
   "outputs": [
    {
     "name": "stderr",
     "output_type": "stream",
     "text": [
      "/Users/sebas/opt/anaconda3/lib/python3.8/site-packages/pyabc/visualization/kde.py:350: MatplotlibDeprecationWarning: shading='flat' when X and Y have the same dimensions as C is deprecated since 3.3.  Either specify the corners of the quadrilaterals with X and Y, or pass shading='auto', 'nearest' or 'gouraud', or set rcParams['pcolor.shading'].  This will become an error two minor releases later.\n",
      "  mesh = ax.pcolormesh(X, Y, PDF, **kwargs)\n"
     ]
    },
    {
     "data": {
      "image/png": "[encoded data removed]",
      "text/plain": [
       "<Figure size 432x288 with 1 Axes>"
      ]
     },
     "metadata": {
      "needs_background": "light"
     },
     "output_type": "display_data"
    },
    {
     "data": {
      "image/png": "[encoded data removed]",
      "text/plain": [
       "<Figure size 360x360 with 5 Axes>"
      ]
     },
     "metadata": {
      "needs_background": "light"
     },
     "output_type": "display_data"
    }
   ],
   "source": [
    "#h = pyabc.History(db_path)\n",
    "limits = {key: (0.1 * val, 10 * val) for key, val in true_pars.items()}\n",
    "pyabc.visualization.plot_epsilons(data)\n",
    "df, w = data.get_distribution(t=4)\n",
    "pyabc.visualization.plot_kde_matrix(df, w, limits=limits, refval=true_pars)\n",
    "plt.show()"
   ]
  },
  {
   "cell_type": "markdown",
   "metadata": {},
   "source": [
    "## Now the juicy part: loop over SSs:"
   ]
  },
  {
   "cell_type": "code",
   "execution_count": null,
   "metadata": {},
   "outputs": [
    {
     "name": "stderr",
     "output_type": "stream",
     "text": [
      "INFO:Sampler:Parallelizing the sampling on 4 cores.\n",
      "INFO:History:Start <ABCSMC(id=29, start_time=2021-01-08 18:01:48.504423, end_time=None)>\n",
      "INFO:ABC:Calibration sample before t=0.\n"
     ]
    },
    {
     "name": "stdout",
     "output_type": "stream",
     "text": [
      "Working with  <function distanceMSD at 0x7f9e4d468940>\n",
      "MorpheusModel {\n",
      "\tname      : Demo_CellMotility.xml\n",
      "}\n"
     ]
    },
    {
     "name": "stderr",
     "output_type": "stream",
     "text": [
      "INFO:Epsilon:initial epsilon is 0.35597474095762915\n",
      "INFO:ABC:t: 0, eps: 0.35597474095762915.\n",
      "INFO:ABC:Acceptance rate: 100 / 187 = 5.3476e-01, ESS=1.0000e+02.\n",
      "INFO:ABC:t: 1, eps: 0.25638708247961006.\n",
      "INFO:ABC:Acceptance rate: 100 / 310 = 3.2258e-01, ESS=9.1201e+01.\n",
      "INFO:ABC:t: 2, eps: 0.1674593504351176.\n",
      "INFO:ABC:Acceptance rate: 100 / 628 = 1.5924e-01, ESS=8.7682e+01.\n",
      "INFO:ABC:t: 3, eps: 0.11261338205716223.\n",
      "INFO:ABC:Acceptance rate: 100 / 850 = 1.1765e-01, ESS=8.7673e+01.\n",
      "INFO:ABC:t: 4, eps: 0.07535977271860164.\n",
      "INFO:ABC:Acceptance rate: 100 / 1870 = 5.3476e-02, ESS=7.6920e+01.\n",
      "INFO:ABC:t: 5, eps: 0.05194931103847468.\n",
      "INFO:ABC:Acceptance rate: 100 / 3699 = 2.7034e-02, ESS=8.5492e+01.\n",
      "INFO:pyabc.util:Stopping: maximum number of generations.\n",
      "INFO:History:Done <ABCSMC(id=29, start_time=2021-01-08 18:01:48.504423, end_time=2021-01-08 19:44:31.973448)>\n",
      "INFO:Sampler:Parallelizing the sampling on 4 cores.\n",
      "INFO:History:Start <ABCSMC(id=30, start_time=2021-01-08 19:44:32.018334, end_time=None)>\n",
      "INFO:ABC:Calibration sample before t=0.\n"
     ]
    },
    {
     "name": "stdout",
     "output_type": "stream",
     "text": [
      "Working with  VAC_MSD\n",
      "MorpheusModel {\n",
      "\tname      : Demo_CellMotility.xml\n",
      "}\n"
     ]
    },
    {
     "name": "stderr",
     "output_type": "stream",
     "text": [
      "INFO:Epsilon:initial epsilon is 0.717194070861069\n",
      "INFO:ABC:t: 0, eps: 0.717194070861069.\n",
      "INFO:ABC:Acceptance rate: 100 / 206 = 4.8544e-01, ESS=1.0000e+02.\n",
      "INFO:ABC:t: 1, eps: 0.5791963468322906.\n",
      "INFO:ABC:Acceptance rate: 100 / 308 = 3.2468e-01, ESS=7.6994e+01.\n",
      "INFO:ABC:t: 2, eps: 0.46168079146165275.\n",
      "INFO:ABC:Acceptance rate: 100 / 402 = 2.4876e-01, ESS=9.0676e+01.\n",
      "INFO:ABC:t: 3, eps: 0.3468890710421109.\n",
      "INFO:ABC:Acceptance rate: 100 / 630 = 1.5873e-01, ESS=8.4827e+01.\n",
      "INFO:ABC:t: 4, eps: 0.26087952196456343.\n",
      "INFO:ABC:Acceptance rate: 100 / 571 = 1.7513e-01, ESS=7.8185e+01.\n",
      "INFO:ABC:t: 5, eps: 0.18038553957950162.\n",
      "INFO:ABC:Acceptance rate: 100 / 1054 = 9.4877e-02, ESS=7.0579e+01.\n",
      "INFO:pyabc.util:Stopping: maximum number of generations.\n",
      "INFO:History:Done <ABCSMC(id=30, start_time=2021-01-08 19:44:32.018334, end_time=2021-01-08 20:26:49.630748)>\n",
      "INFO:Sampler:Parallelizing the sampling on 4 cores.\n",
      "INFO:History:Start <ABCSMC(id=31, start_time=2021-01-08 20:26:49.680277, end_time=None)>\n",
      "INFO:ABC:Calibration sample before t=0.\n"
     ]
    },
    {
     "name": "stdout",
     "output_type": "stream",
     "text": [
      "Working with  <function distanceVAC at 0x7f9e4d468dc0>\n",
      "MorpheusModel {\n",
      "\tname      : Demo_CellMotility.xml\n",
      "}\n"
     ]
    },
    {
     "name": "stderr",
     "output_type": "stream",
     "text": [
      "INFO:Epsilon:initial epsilon is 0.4128439874817688\n",
      "INFO:ABC:t: 0, eps: 0.4128439874817688.\n",
      "INFO:ABC:Acceptance rate: 100 / 217 = 4.6083e-01, ESS=1.0000e+02.\n",
      "INFO:ABC:t: 1, eps: 0.21235884160370153.\n",
      "INFO:ABC:Acceptance rate: 100 / 272 = 3.6765e-01, ESS=8.8621e+01.\n",
      "INFO:ABC:t: 2, eps: 0.13530824083880652.\n",
      "INFO:ABC:Acceptance rate: 100 / 300 = 3.3333e-01, ESS=6.1046e+01.\n",
      "INFO:ABC:t: 3, eps: 0.11049739897952562.\n",
      "INFO:ABC:Acceptance rate: 100 / 498 = 2.0080e-01, ESS=8.2387e+01.\n",
      "INFO:ABC:t: 4, eps: 0.08892280784838283.\n",
      "INFO:ABC:Acceptance rate: 100 / 828 = 1.2077e-01, ESS=7.5491e+01.\n",
      "INFO:ABC:t: 5, eps: 0.07005065082825607.\n",
      "INFO:ABC:Acceptance rate: 100 / 1891 = 5.2882e-02, ESS=8.1000e+01.\n",
      "INFO:pyabc.util:Stopping: maximum number of generations.\n",
      "INFO:History:Done <ABCSMC(id=31, start_time=2021-01-08 20:26:49.680277, end_time=2021-01-08 21:19:45.288503)>\n",
      "INFO:Sampler:Parallelizing the sampling on 4 cores.\n",
      "INFO:History:Start <ABCSMC(id=32, start_time=2021-01-08 21:19:45.341081, end_time=None)>\n",
      "INFO:ABC:Calibration sample before t=0.\n"
     ]
    },
    {
     "name": "stdout",
     "output_type": "stream",
     "text": [
      "Working with  DR_MSD\n",
      "MorpheusModel {\n",
      "\tname      : Demo_CellMotility.xml\n",
      "}\n"
     ]
    },
    {
     "name": "stderr",
     "output_type": "stream",
     "text": [
      "INFO:Epsilon:initial epsilon is 0.9274858599027085\n",
      "INFO:ABC:t: 0, eps: 0.9274858599027085.\n",
      "INFO:ABC:Acceptance rate: 100 / 218 = 4.5872e-01, ESS=1.0000e+02.\n",
      "INFO:ABC:t: 1, eps: 0.7101348556058388.\n",
      "INFO:ABC:Acceptance rate: 100 / 378 = 2.6455e-01, ESS=8.5737e+01.\n",
      "INFO:ABC:t: 2, eps: 0.5708937889839907.\n",
      "INFO:ABC:Acceptance rate: 100 / 519 = 1.9268e-01, ESS=9.3943e+01.\n",
      "INFO:ABC:t: 3, eps: 0.45157980474937887.\n",
      "INFO:ABC:Acceptance rate: 100 / 854 = 1.1710e-01, ESS=8.9911e+01.\n",
      "INFO:ABC:t: 4, eps: 0.35808121953332905.\n",
      "INFO:ABC:Acceptance rate: 100 / 1354 = 7.3855e-02, ESS=8.9767e+01.\n",
      "INFO:ABC:t: 5, eps: 0.29054557842836815.\n",
      "INFO:ABC:Acceptance rate: 100 / 2711 = 3.6887e-02, ESS=8.1406e+01.\n",
      "INFO:pyabc.util:Stopping: maximum number of generations.\n",
      "INFO:History:Done <ABCSMC(id=32, start_time=2021-01-08 21:19:45.341081, end_time=2021-01-08 22:40:46.804425)>\n",
      "INFO:Sampler:Parallelizing the sampling on 4 cores.\n",
      "INFO:History:Start <ABCSMC(id=33, start_time=2021-01-08 22:40:46.870124, end_time=None)>\n",
      "INFO:ABC:Calibration sample before t=0.\n"
     ]
    },
    {
     "name": "stdout",
     "output_type": "stream",
     "text": [
      "Working with  DR_VAC\n",
      "MorpheusModel {\n",
      "\tname      : Demo_CellMotility.xml\n",
      "}\n"
     ]
    },
    {
     "name": "stderr",
     "output_type": "stream",
     "text": [
      "INFO:Epsilon:initial epsilon is 0.6887568665995523\n",
      "INFO:ABC:t: 0, eps: 0.6887568665995523.\n",
      "INFO:ABC:Acceptance rate: 100 / 257 = 3.8911e-01, ESS=1.0000e+02.\n",
      "INFO:ABC:t: 1, eps: 0.45297194142114017.\n",
      "INFO:ABC:Acceptance rate: 100 / 358 = 2.7933e-01, ESS=8.9108e+01.\n",
      "INFO:ABC:t: 2, eps: 0.34587028810229736.\n",
      "INFO:ABC:Acceptance rate: 100 / 538 = 1.8587e-01, ESS=7.4936e+01.\n",
      "INFO:ABC:t: 3, eps: 0.25926516218280926.\n",
      "INFO:ABC:Acceptance rate: 100 / 1393 = 7.1788e-02, ESS=8.8071e+01.\n",
      "INFO:ABC:t: 4, eps: 0.21855953756943072.\n",
      "INFO:ABC:Acceptance rate: 100 / 2456 = 4.0717e-02, ESS=2.2773e+01.\n",
      "INFO:ABC:t: 5, eps: 0.19519829489627308.\n",
      "INFO:ABC:Acceptance rate: 100 / 6052 = 1.6523e-02, ESS=8.7891e+01.\n",
      "INFO:pyabc.util:Stopping: maximum number of generations.\n",
      "INFO:History:Done <ABCSMC(id=33, start_time=2021-01-08 22:40:46.870124, end_time=2021-01-09 01:05:47.197874)>\n",
      "INFO:Sampler:Parallelizing the sampling on 4 cores.\n",
      "INFO:History:Start <ABCSMC(id=34, start_time=2021-01-09 01:05:47.248710, end_time=None)>\n",
      "INFO:ABC:Calibration sample before t=0.\n"
     ]
    },
    {
     "name": "stdout",
     "output_type": "stream",
     "text": [
      "Working with  <function distanceDR at 0x7f9e4d12b310>\n",
      "MorpheusModel {\n",
      "\tname      : Demo_CellMotility.xml\n",
      "}\n"
     ]
    },
    {
     "name": "stderr",
     "output_type": "stream",
     "text": [
      "INFO:Epsilon:initial epsilon is 0.37765599568627095\n",
      "INFO:ABC:t: 0, eps: 0.37765599568627095.\n",
      "INFO:ABC:Acceptance rate: 100 / 202 = 4.9505e-01, ESS=1.0000e+02.\n",
      "INFO:ABC:t: 1, eps: 0.22418016589505607.\n",
      "INFO:ABC:Acceptance rate: 100 / 400 = 2.5000e-01, ESS=9.1855e+01.\n",
      "INFO:ABC:t: 2, eps: 0.17539779434564826.\n",
      "INFO:ABC:Acceptance rate: 100 / 715 = 1.3986e-01, ESS=8.8214e+01.\n",
      "INFO:ABC:t: 3, eps: 0.13782532870731823.\n",
      "INFO:ABC:Acceptance rate: 100 / 1506 = 6.6401e-02, ESS=8.4505e+01.\n",
      "INFO:ABC:t: 4, eps: 0.11123501779292852.\n",
      "INFO:ABC:Acceptance rate: 100 / 2134 = 4.6860e-02, ESS=8.8949e+01.\n",
      "INFO:ABC:t: 5, eps: 0.08852588571715167.\n",
      "INFO:ABC:Acceptance rate: 100 / 5299 = 1.8871e-02, ESS=9.1729e+01.\n",
      "INFO:pyabc.util:Stopping: maximum number of generations.\n",
      "INFO:History:Done <ABCSMC(id=34, start_time=2021-01-09 01:05:47.248710, end_time=2021-01-09 03:22:11.362471)>\n",
      "INFO:Sampler:Parallelizing the sampling on 4 cores.\n",
      "INFO:History:Start <ABCSMC(id=35, start_time=2021-01-09 03:22:11.414229, end_time=None)>\n",
      "INFO:ABC:Calibration sample before t=0.\n"
     ]
    },
    {
     "name": "stdout",
     "output_type": "stream",
     "text": [
      "Working with  RG_MSD\n",
      "MorpheusModel {\n",
      "\tname      : Demo_CellMotility.xml\n",
      "}\n"
     ]
    },
    {
     "name": "stderr",
     "output_type": "stream",
     "text": [
      "INFO:Epsilon:initial epsilon is 0.8585413533660322\n",
      "INFO:ABC:t: 0, eps: 0.8585413533660322.\n",
      "INFO:ABC:Acceptance rate: 100 / 216 = 4.6296e-01, ESS=1.0000e+02.\n",
      "INFO:ABC:t: 1, eps: 0.5761769833143333.\n",
      "INFO:ABC:Acceptance rate: 100 / 330 = 3.0303e-01, ESS=9.5818e+01.\n",
      "INFO:ABC:t: 2, eps: 0.4309363251184314.\n",
      "INFO:ABC:Acceptance rate: 100 / 435 = 2.2989e-01, ESS=9.2412e+01.\n",
      "INFO:ABC:t: 3, eps: 0.3227864401968944.\n",
      "INFO:ABC:Acceptance rate: 100 / 933 = 1.0718e-01, ESS=9.3196e+01.\n",
      "INFO:ABC:t: 4, eps: 0.25367580020509334.\n",
      "INFO:ABC:Acceptance rate: 100 / 1191 = 8.3963e-02, ESS=4.7161e+01.\n",
      "INFO:ABC:t: 5, eps: 0.2129741357052311.\n",
      "INFO:ABC:Acceptance rate: 100 / 2556 = 3.9124e-02, ESS=7.3808e+01.\n",
      "INFO:pyabc.util:Stopping: maximum number of generations.\n",
      "INFO:History:Done <ABCSMC(id=35, start_time=2021-01-09 03:22:11.414229, end_time=2021-01-09 04:37:31.922901)>\n",
      "INFO:Sampler:Parallelizing the sampling on 4 cores.\n",
      "INFO:History:Start <ABCSMC(id=36, start_time=2021-01-09 04:37:31.972813, end_time=None)>\n",
      "INFO:ABC:Calibration sample before t=0.\n"
     ]
    },
    {
     "name": "stdout",
     "output_type": "stream",
     "text": [
      "Working with  RG_VAC\n",
      "MorpheusModel {\n",
      "\tname      : Demo_CellMotility.xml\n",
      "}\n"
     ]
    },
    {
     "name": "stderr",
     "output_type": "stream",
     "text": [
      "INFO:Epsilon:initial epsilon is 1.074802293107061\n",
      "INFO:ABC:t: 0, eps: 1.074802293107061.\n",
      "INFO:ABC:Acceptance rate: 100 / 217 = 4.6083e-01, ESS=1.0000e+02.\n",
      "INFO:ABC:t: 1, eps: 0.809160156347267.\n",
      "INFO:ABC:Acceptance rate: 100 / 263 = 3.8023e-01, ESS=8.5667e+01.\n",
      "INFO:ABC:t: 2, eps: 0.6384318613334463.\n",
      "INFO:ABC:Acceptance rate: 100 / 336 = 2.9762e-01, ESS=3.7516e+01.\n",
      "INFO:ABC:t: 3, eps: 0.45911742219601737.\n",
      "INFO:ABC:Acceptance rate: 100 / 537 = 1.8622e-01, ESS=6.9836e+01.\n",
      "INFO:ABC:t: 4, eps: 0.3665125215738673.\n",
      "INFO:ABC:Acceptance rate: 100 / 521 = 1.9194e-01, ESS=6.5995e+01.\n",
      "INFO:ABC:t: 5, eps: 0.2793009308584618.\n",
      "INFO:ABC:Acceptance rate: 100 / 935 = 1.0695e-01, ESS=4.9455e+01.\n",
      "INFO:pyabc.util:Stopping: maximum number of generations.\n",
      "INFO:History:Done <ABCSMC(id=36, start_time=2021-01-09 04:37:31.972813, end_time=2021-01-09 05:15:48.730984)>\n",
      "INFO:Sampler:Parallelizing the sampling on 4 cores.\n",
      "INFO:History:Start <ABCSMC(id=37, start_time=2021-01-09 05:15:48.778408, end_time=None)>\n",
      "INFO:ABC:Calibration sample before t=0.\n"
     ]
    },
    {
     "name": "stdout",
     "output_type": "stream",
     "text": [
      "Working with  RG_DR\n",
      "MorpheusModel {\n",
      "\tname      : Demo_CellMotility.xml\n",
      "}\n"
     ]
    },
    {
     "name": "stderr",
     "output_type": "stream",
     "text": [
      "INFO:Epsilon:initial epsilon is 1.094076367901574\n",
      "INFO:ABC:t: 0, eps: 1.094076367901574.\n",
      "INFO:ABC:Acceptance rate: 100 / 209 = 4.7847e-01, ESS=1.0000e+02.\n",
      "INFO:ABC:t: 1, eps: 0.8407164788531997.\n",
      "INFO:ABC:Acceptance rate: 100 / 358 = 2.7933e-01, ESS=8.7756e+01.\n",
      "INFO:ABC:t: 2, eps: 0.6480615879470456.\n",
      "INFO:ABC:Acceptance rate: 100 / 548 = 1.8248e-01, ESS=8.9860e+01.\n",
      "INFO:ABC:t: 3, eps: 0.5109413348956431.\n",
      "INFO:ABC:Acceptance rate: 100 / 730 = 1.3699e-01, ESS=7.8848e+01.\n",
      "INFO:ABC:t: 4, eps: 0.40687868201528826.\n",
      "INFO:ABC:Acceptance rate: 100 / 1567 = 6.3816e-02, ESS=7.2534e+01.\n",
      "INFO:ABC:t: 5, eps: 0.3398548614279686.\n",
      "INFO:ABC:Acceptance rate: 100 / 2970 = 3.3670e-02, ESS=8.6282e+01.\n",
      "INFO:pyabc.util:Stopping: maximum number of generations.\n",
      "INFO:History:Done <ABCSMC(id=37, start_time=2021-01-09 05:15:48.778408, end_time=2021-01-09 06:41:07.538529)>\n",
      "INFO:Sampler:Parallelizing the sampling on 4 cores.\n",
      "INFO:History:Start <ABCSMC(id=38, start_time=2021-01-09 06:41:07.583739, end_time=None)>\n",
      "INFO:ABC:Calibration sample before t=0.\n"
     ]
    },
    {
     "name": "stdout",
     "output_type": "stream",
     "text": [
      "Working with  <function distanceRG at 0x7f9e4d12b670>\n",
      "MorpheusModel {\n",
      "\tname      : Demo_CellMotility.xml\n",
      "}\n"
     ]
    },
    {
     "name": "stderr",
     "output_type": "stream",
     "text": [
      "INFO:Epsilon:initial epsilon is 0.5987914187135491\n",
      "INFO:ABC:t: 0, eps: 0.5987914187135491.\n",
      "INFO:ABC:Acceptance rate: 100 / 214 = 4.6729e-01, ESS=1.0000e+02.\n",
      "INFO:ABC:t: 1, eps: 0.38538321374449597.\n",
      "INFO:ABC:Acceptance rate: 100 / 242 = 4.1322e-01, ESS=8.1052e+01.\n",
      "INFO:ABC:t: 2, eps: 0.293716485629111.\n",
      "INFO:ABC:Acceptance rate: 100 / 404 = 2.4752e-01, ESS=8.1774e+01.\n",
      "INFO:ABC:t: 3, eps: 0.20552580711106125.\n",
      "INFO:ABC:Acceptance rate: 100 / 939 = 1.0650e-01, ESS=9.1845e+01.\n",
      "INFO:ABC:t: 4, eps: 0.1609124465492823.\n",
      "INFO:ABC:Acceptance rate: 100 / 1136 = 8.8028e-02, ESS=6.1132e+01.\n",
      "INFO:ABC:t: 5, eps: 0.1299911504450821.\n",
      "INFO:ABC:Acceptance rate: 100 / 1889 = 5.2938e-02, ESS=8.5082e+01.\n",
      "INFO:pyabc.util:Stopping: maximum number of generations.\n",
      "INFO:History:Done <ABCSMC(id=38, start_time=2021-01-09 06:41:07.583739, end_time=2021-01-09 07:45:59.138722)>\n",
      "INFO:Sampler:Parallelizing the sampling on 4 cores.\n",
      "INFO:History:Start <ABCSMC(id=39, start_time=2021-01-09 07:45:59.187131, end_time=None)>\n",
      "INFO:ABC:Calibration sample before t=0.\n"
     ]
    },
    {
     "name": "stdout",
     "output_type": "stream",
     "text": [
      "Working with  HR_MSD\n",
      "MorpheusModel {\n",
      "\tname      : Demo_CellMotility.xml\n",
      "}\n"
     ]
    },
    {
     "name": "stderr",
     "output_type": "stream",
     "text": [
      "INFO:Epsilon:initial epsilon is 0.5208178730711059\n",
      "INFO:ABC:t: 0, eps: 0.5208178730711059.\n",
      "INFO:ABC:Acceptance rate: 100 / 211 = 4.7393e-01, ESS=1.0000e+02.\n",
      "INFO:ABC:t: 1, eps: 0.3593444319793141.\n",
      "INFO:ABC:Acceptance rate: 100 / 342 = 2.9240e-01, ESS=8.8674e+01.\n",
      "INFO:ABC:t: 2, eps: 0.2593118300225649.\n",
      "INFO:ABC:Acceptance rate: 100 / 501 = 1.9960e-01, ESS=8.3499e+01.\n",
      "INFO:ABC:t: 3, eps: 0.16986278417011025.\n",
      "INFO:ABC:Acceptance rate: 100 / 870 = 1.1494e-01, ESS=6.1443e+01.\n",
      "INFO:ABC:t: 4, eps: 0.1090864128453205.\n",
      "INFO:ABC:Acceptance rate: 100 / 1676 = 5.9666e-02, ESS=7.6472e+01.\n",
      "INFO:ABC:t: 5, eps: 0.07796973500789817.\n",
      "INFO:ABC:Acceptance rate: 100 / 4052 = 2.4679e-02, ESS=7.3270e+01.\n",
      "INFO:pyabc.util:Stopping: maximum number of generations.\n",
      "INFO:History:Done <ABCSMC(id=39, start_time=2021-01-09 07:45:59.187131, end_time=2021-01-09 09:26:34.617337)>\n",
      "INFO:Sampler:Parallelizing the sampling on 4 cores.\n",
      "INFO:History:Start <ABCSMC(id=40, start_time=2021-01-09 09:26:34.679527, end_time=None)>\n",
      "INFO:ABC:Calibration sample before t=0.\n"
     ]
    },
    {
     "name": "stdout",
     "output_type": "stream",
     "text": [
      "Working with  HR_VAC\n",
      "MorpheusModel {\n",
      "\tname      : Demo_CellMotility.xml\n",
      "}\n"
     ]
    },
    {
     "name": "stderr",
     "output_type": "stream",
     "text": [
      "INFO:Epsilon:initial epsilon is 0.42718080849057094\n",
      "INFO:ABC:t: 0, eps: 0.42718080849057094.\n",
      "INFO:ABC:Acceptance rate: 100 / 172 = 5.8140e-01, ESS=1.0000e+02.\n",
      "INFO:ABC:t: 1, eps: 0.24302102953700552.\n",
      "INFO:ABC:Acceptance rate: 100 / 256 = 3.9062e-01, ESS=8.8534e+01.\n",
      "INFO:ABC:t: 2, eps: 0.14568697652493728.\n",
      "INFO:ABC:Acceptance rate: 100 / 312 = 3.2051e-01, ESS=9.1267e+01.\n",
      "INFO:ABC:t: 3, eps: 0.10966973325529275.\n",
      "INFO:ABC:Acceptance rate: 100 / 387 = 2.5840e-01, ESS=4.5795e+01.\n",
      "INFO:ABC:t: 4, eps: 0.0847070620392096.\n",
      "INFO:ABC:Acceptance rate: 100 / 1021 = 9.7943e-02, ESS=6.9587e+01.\n",
      "INFO:ABC:t: 5, eps: 0.06905687690615046.\n",
      "INFO:ABC:Acceptance rate: 100 / 1771 = 5.6465e-02, ESS=1.1066e+01.\n",
      "INFO:pyabc.util:Stopping: maximum number of generations.\n",
      "INFO:History:Done <ABCSMC(id=40, start_time=2021-01-09 09:26:34.679527, end_time=2021-01-09 10:18:23.512357)>\n",
      "INFO:Sampler:Parallelizing the sampling on 4 cores.\n",
      "INFO:History:Start <ABCSMC(id=41, start_time=2021-01-09 10:18:23.558784, end_time=None)>\n",
      "INFO:ABC:Calibration sample before t=0.\n"
     ]
    },
    {
     "name": "stdout",
     "output_type": "stream",
     "text": [
      "Working with  HR_DR\n",
      "MorpheusModel {\n",
      "\tname      : Demo_CellMotility.xml\n",
      "}\n"
     ]
    },
    {
     "name": "stderr",
     "output_type": "stream",
     "text": [
      "INFO:Epsilon:initial epsilon is 0.4809622170790996\n",
      "INFO:ABC:t: 0, eps: 0.4809622170790996.\n",
      "INFO:ABC:Acceptance rate: 100 / 167 = 5.9880e-01, ESS=1.0000e+02.\n",
      "INFO:ABC:t: 1, eps: 0.24719663362787272.\n",
      "INFO:ABC:Acceptance rate: 100 / 402 = 2.4876e-01, ESS=7.3906e+01.\n",
      "INFO:ABC:t: 2, eps: 0.18205825378710708.\n",
      "INFO:ABC:Acceptance rate: 100 / 713 = 1.4025e-01, ESS=9.2281e+01.\n",
      "INFO:ABC:t: 3, eps: 0.14574722381259406.\n",
      "INFO:ABC:Acceptance rate: 100 / 1235 = 8.0972e-02, ESS=9.2233e+01.\n",
      "INFO:ABC:t: 4, eps: 0.11935805275898681.\n",
      "INFO:ABC:Acceptance rate: 100 / 2265 = 4.4150e-02, ESS=8.4773e+01.\n",
      "INFO:ABC:t: 5, eps: 0.09257791677083298.\n",
      "INFO:ABC:Acceptance rate: 100 / 5023 = 1.9908e-02, ESS=7.8578e+01.\n",
      "INFO:pyabc.util:Stopping: maximum number of generations.\n",
      "INFO:History:Done <ABCSMC(id=41, start_time=2021-01-09 10:18:23.558784, end_time=2021-01-09 12:26:21.466380)>\n",
      "INFO:Sampler:Parallelizing the sampling on 4 cores.\n",
      "INFO:History:Start <ABCSMC(id=42, start_time=2021-01-09 12:26:21.532366, end_time=None)>\n",
      "INFO:ABC:Calibration sample before t=0.\n"
     ]
    },
    {
     "name": "stdout",
     "output_type": "stream",
     "text": [
      "Working with  HR_RG\n",
      "MorpheusModel {\n",
      "\tname      : Demo_CellMotility.xml\n",
      "}\n"
     ]
    },
    {
     "name": "stderr",
     "output_type": "stream",
     "text": [
      "INFO:Epsilon:initial epsilon is 0.6484995409334762\n",
      "INFO:ABC:t: 0, eps: 0.6484995409334762.\n",
      "INFO:ABC:Acceptance rate: 100 / 174 = 5.7471e-01, ESS=1.0000e+02.\n",
      "INFO:ABC:t: 1, eps: 0.4086543458653463.\n",
      "INFO:ABC:Acceptance rate: 100 / 266 = 3.7594e-01, ESS=9.1390e+01.\n",
      "INFO:ABC:t: 2, eps: 0.2762085391177589.\n",
      "INFO:ABC:Acceptance rate: 100 / 370 = 2.7027e-01, ESS=2.5032e+01.\n",
      "INFO:ABC:t: 3, eps: 0.22145271618471674.\n",
      "INFO:ABC:Acceptance rate: 100 / 716 = 1.3966e-01, ESS=7.7697e+01.\n",
      "INFO:ABC:t: 4, eps: 0.1723553499658694.\n",
      "INFO:ABC:Acceptance rate: 100 / 1251 = 7.9936e-02, ESS=8.9720e+01.\n",
      "INFO:ABC:t: 5, eps: 0.13683718810790338.\n",
      "INFO:ABC:Acceptance rate: 100 / 1613 = 6.1996e-02, ESS=7.8561e+01.\n",
      "INFO:pyabc.util:Stopping: maximum number of generations.\n",
      "INFO:History:Done <ABCSMC(id=42, start_time=2021-01-09 12:26:21.532366, end_time=2021-01-09 13:26:09.177488)>\n",
      "INFO:Sampler:Parallelizing the sampling on 4 cores.\n",
      "INFO:History:Start <ABCSMC(id=43, start_time=2021-01-09 13:26:09.227155, end_time=None)>\n",
      "INFO:ABC:Calibration sample before t=0.\n"
     ]
    },
    {
     "name": "stdout",
     "output_type": "stream",
     "text": [
      "Working with  <function distanceHR at 0x7f9e4d4dc280>\n",
      "MorpheusModel {\n",
      "\tname      : Demo_CellMotility.xml\n",
      "}\n"
     ]
    },
    {
     "name": "stderr",
     "output_type": "stream",
     "text": [
      "INFO:Epsilon:initial epsilon is 0.00031780555064274304\n",
      "INFO:ABC:t: 0, eps: 0.00031780555064274304.\n",
      "INFO:ABC:Acceptance rate: 100 / 221 = 4.5249e-01, ESS=1.0000e+02.\n",
      "INFO:ABC:t: 1, eps: 0.00028052640669247274.\n",
      "INFO:ABC:Acceptance rate: 100 / 422 = 2.3697e-01, ESS=8.9197e+01.\n",
      "INFO:ABC:t: 2, eps: 0.00021931373723643616.\n",
      "INFO:ABC:Acceptance rate: 100 / 809 = 1.2361e-01, ESS=8.6089e+01.\n",
      "INFO:ABC:t: 3, eps: 0.00014538381673978598.\n",
      "INFO:ABC:Acceptance rate: 100 / 1199 = 8.3403e-02, ESS=8.5843e+01.\n",
      "INFO:ABC:t: 4, eps: 8.424771778575704e-05.\n"
     ]
    }
   ],
   "source": [
    "# Extensions of SS functions:\n",
    "ss_list = ['MSD', 'VAC', 'DR', 'RG', 'HR']\n",
    "#ss_list = ['MSD', 'VAC']\n",
    "\n",
    "for el1 in ss_list:\n",
    "    measured_list = []\n",
    "    for el2 in ss_list:\n",
    "        measured_list.append(el2)\n",
    "        if (el1 != el2) and (el1 not in measured_list):\n",
    "            #print(el1,el2)\n",
    "            functions_names = []\n",
    "            d = el1 + '_' + el2\n",
    "            functions_names.append('data_' + el1 + '_' + el2)\n",
    "            #data = ['data%s' % os.join.el1]\n",
    "            dist1 = globals()['distance%s' % el1]\n",
    "            dist2 = globals()['distance%s' % el2]\n",
    "            distances = [dist1,dist2]\n",
    "            print('Working with ',d)\n",
    "            data = fmc_mot_pipeline(\"Demo_CellMotility.xml\", t_init=1, time_interval=100, populations=6, dist_functions=distances)\n",
    "            globals()['data_' + el1 + '_'+ el2] = data\n",
    "        elif (el1 == el2):\n",
    "            dist1 = globals()['distance%s' % el1]\n",
    "            dist2 = globals()['distance%s' % el2]\n",
    "            distances = [dist1,dist2]\n",
    "            print('Working with ', str(dist1))\n",
    "            data = fmc_mot_pipeline(\"Demo_CellMotility.xml\", t_init=1, time_interval=100, populations=6, dist_functions=distances[0])\n",
    "            globals()['data_' + el1 + '_'+ el2] = data            \n"
   ]
  },
  {
   "cell_type": "markdown",
   "metadata": {},
   "source": [
    "## Quality of fit:"
   ]
  },
  {
   "cell_type": "code",
   "execution_count": 101,
   "metadata": {},
   "outputs": [
    {
     "data": {
      "text/plain": [
       "<function __main__.distanceVAC(val1, val2)>"
      ]
     },
     "execution_count": 101,
     "metadata": {},
     "output_type": "execute_result"
    }
   ],
   "source": [
    "distances[0]"
   ]
  },
  {
   "cell_type": "code",
   "execution_count": null,
   "metadata": {},
   "outputs": [],
   "source": [
    "data = {'Summary Statistics': np.tile(['MSD', 'VAC', 'DR', 'RG', 'HR'], 5),\n",
    "        'Summary Statistics': np.tile(['MSD', 'VAC', 'DR', 'RG', 'HR']),\n",
    "        'Values': np.array()}"
   ]
  },
  {
   "cell_type": "code",
   "execution_count": 95,
   "metadata": {},
   "outputs": [],
   "source": [
    "np.random.seed(0)\n",
    "data = {'SS1': np.tile(['MSD', 'VAC', 'DR', 'RG', 'HR'], 5),\n",
    "        'SS2': np.repeat(['MSD', 'VAC', 'DR', 'RG', 'HR'], 5),\n",
    "        'Value': np.array(range(25))\n",
    "        }\n",
    "\n",
    "df = pd.DataFrame(data,columns=['SS1','SS2','Value'])\n",
    "df = df.pivot('SS1', 'SS2', 'Value')"
   ]
  },
  {
   "cell_type": "code",
   "execution_count": 96,
   "metadata": {},
   "outputs": [
    {
     "data": {
      "text/plain": [
       "array([44, 47,  0,  3,  3, 39,  9, 19, 21, 36, 23,  6, 24, 24, 12,  1, 38,\n",
       "       39, 23, 46, 24, 17, 37, 25, 13])"
      ]
     },
     "execution_count": 96,
     "metadata": {},
     "output_type": "execute_result"
    }
   ],
   "source": [
    "np.random.randint(0, 50, size=25)"
   ]
  },
  {
   "cell_type": "code",
   "execution_count": 97,
   "metadata": {},
   "outputs": [
    {
     "data": {
      "text/plain": [
       "<AxesSubplot:xlabel='SS2', ylabel='SS1'>"
      ]
     },
     "execution_count": 97,
     "metadata": {},
     "output_type": "execute_result"
    },
    {
     "data": {
      "image/png": "[encoded data removed]",
      "text/plain": [
       "<Figure size 432x288 with 2 Axes>"
      ]
     },
     "metadata": {},
     "output_type": "display_data"
    }
   ],
   "source": [
    "sns.heatmap(df)"
   ]
  },
  {
   "cell_type": "code",
   "execution_count": 58,
   "metadata": {},
   "outputs": [
    {
     "data": {
      "text/plain": [
       "pyabc.storage.history.History"
      ]
     },
     "execution_count": 58,
     "metadata": {},
     "output_type": "execute_result"
    }
   ],
   "source": [
    "type(data_VAC_MSD)"
   ]
  },
  {
   "cell_type": "code",
   "execution_count": 82,
   "metadata": {},
   "outputs": [],
   "source": [
    "def HeatMap_function(df, title, transpose = True, colors = 'Greens', dropDuplicates = True):\n",
    "\n",
    "    if transpose:\n",
    "        df = df.T\n",
    "    \n",
    "    if dropDuplicates:    \n",
    "        mask = np.zeros_like(df, dtype=np.bool)\n",
    "        mask = np.invert(mask)\n",
    "        mask[np.triu_indices_from(mask)] = False\n",
    "\n",
    "    # Set background color / chart style\n",
    "    sns.set_style(style = 'white')\n",
    "\n",
    "    # Set up  matplotlib figure\n",
    "    f, ax = plt.subplots(figsize=(11, 9))\n",
    "    ax.set_title(title)\n",
    "  \n",
    "    # Add diverging colormap from red to blue\n",
    "    # cmap = sns.diverging_palette(250, 10, as_cmap=True)\n",
    "    cmap=plt.get_cmap(colors)\n",
    "    \n",
    "    # Draw correlation plot with or without duplicates\n",
    "    if dropDuplicates:\n",
    "        sns.heatmap(df, annot=True, mask=mask, cmap=cmap, \n",
    "                square=True,\n",
    "                linewidth=.5, cbar_kws={\"shrink\": .5}, ax=ax)\n",
    "    else:\n",
    "        sns.heatmap(df, annot=True, cmap=cmap, \n",
    "                square=True,\n",
    "                linewidth=.5, cbar_kws={\"shrink\": .5}, ax=ax)\n",
    "\n",
    "    ax.xaxis.set_ticks_position('top')\n",
    "    ax.yaxis.set_ticks_position('right')\n"
   ]
  },
  {
   "cell_type": "code",
   "execution_count": 99,
   "metadata": {},
   "outputs": [
    {
     "data": {
      "image/png": "[encoded data removed]",
      "text/plain": [
       "<Figure size 792x648 with 2 Axes>"
      ]
     },
     "metadata": {},
     "output_type": "display_data"
    }
   ],
   "source": [
    "HeatMap_function(df = df, title = 'Quality of fit', transpose = False,\n",
    "                 colors = 'Greens', dropDuplicates = False)"
   ]
  },
  {
   "cell_type": "code",
   "execution_count": 251,
   "metadata": {},
   "outputs": [],
   "source": [
    "np.random.seed(0)"
   ]
  },
  {
   "cell_type": "code",
   "execution_count": 252,
   "metadata": {},
   "outputs": [
    {
     "data": {
      "text/html": [
       "<div>\n",
       "<style scoped>\n",
       "    .dataframe tbody tr th:only-of-type {\n",
       "        vertical-align: middle;\n",
       "    }\n",
       "\n",
       "    .dataframe tbody tr th {\n",
       "        vertical-align: top;\n",
       "    }\n",
       "\n",
       "    .dataframe thead th {\n",
       "        text-align: right;\n",
       "    }\n",
       "</style>\n",
       "<table border=\"1\" class=\"dataframe\">\n",
       "  <thead>\n",
       "    <tr style=\"text-align: right;\">\n",
       "      <th>name</th>\n",
       "      <th>motion_strength</th>\n",
       "      <th>noise_level</th>\n",
       "    </tr>\n",
       "    <tr>\n",
       "      <th>id</th>\n",
       "      <th></th>\n",
       "      <th></th>\n",
       "    </tr>\n",
       "  </thead>\n",
       "  <tbody>\n",
       "    <tr>\n",
       "      <th>9682</th>\n",
       "      <td>2.879159</td>\n",
       "      <td>0.042109</td>\n",
       "    </tr>\n",
       "    <tr>\n",
       "      <th>9683</th>\n",
       "      <td>0.466828</td>\n",
       "      <td>0.826715</td>\n",
       "    </tr>\n",
       "    <tr>\n",
       "      <th>9684</th>\n",
       "      <td>0.716014</td>\n",
       "      <td>0.639628</td>\n",
       "    </tr>\n",
       "    <tr>\n",
       "      <th>9685</th>\n",
       "      <td>1.442559</td>\n",
       "      <td>0.013153</td>\n",
       "    </tr>\n",
       "    <tr>\n",
       "      <th>9686</th>\n",
       "      <td>0.954230</td>\n",
       "      <td>0.044028</td>\n",
       "    </tr>\n",
       "    <tr>\n",
       "      <th>...</th>\n",
       "      <td>...</td>\n",
       "      <td>...</td>\n",
       "    </tr>\n",
       "    <tr>\n",
       "      <th>9777</th>\n",
       "      <td>2.007175</td>\n",
       "      <td>0.061286</td>\n",
       "    </tr>\n",
       "    <tr>\n",
       "      <th>9778</th>\n",
       "      <td>1.993825</td>\n",
       "      <td>0.446857</td>\n",
       "    </tr>\n",
       "    <tr>\n",
       "      <th>9779</th>\n",
       "      <td>1.110446</td>\n",
       "      <td>0.382391</td>\n",
       "    </tr>\n",
       "    <tr>\n",
       "      <th>9780</th>\n",
       "      <td>1.680755</td>\n",
       "      <td>0.113895</td>\n",
       "    </tr>\n",
       "    <tr>\n",
       "      <th>9781</th>\n",
       "      <td>0.311254</td>\n",
       "      <td>0.376027</td>\n",
       "    </tr>\n",
       "  </tbody>\n",
       "</table>\n",
       "<p>100 rows × 2 columns</p>\n",
       "</div>"
      ],
      "text/plain": [
       "name  motion_strength  noise_level\n",
       "id                                \n",
       "9682         2.879159     0.042109\n",
       "9683         0.466828     0.826715\n",
       "9684         0.716014     0.639628\n",
       "9685         1.442559     0.013153\n",
       "9686         0.954230     0.044028\n",
       "...               ...          ...\n",
       "9777         2.007175     0.061286\n",
       "9778         1.993825     0.446857\n",
       "9779         1.110446     0.382391\n",
       "9780         1.680755     0.113895\n",
       "9781         0.311254     0.376027\n",
       "\n",
       "[100 rows x 2 columns]"
      ]
     },
     "execution_count": 252,
     "metadata": {},
     "output_type": "execute_result"
    }
   ],
   "source": [
    "df"
   ]
  },
  {
   "cell_type": "markdown",
   "metadata": {},
   "source": [
    "## Save the data:"
   ]
  },
  {
   "cell_type": "code",
   "execution_count": null,
   "metadata": {},
   "outputs": [],
   "source": [
    "# First save as dataframes with "
   ]
  }
 ],
 "metadata": {
  "kernelspec": {
   "display_name": "Python 3",
   "language": "python",
   "name": "python3"
  },
  "language_info": {
   "codemirror_mode": {
    "name": "ipython",
    "version": 3
   },
   "file_extension": ".py",
   "mimetype": "text/x-python",
   "name": "python",
   "nbconvert_exporter": "python",
   "pygments_lexer": "ipython3",
   "version": "3.8.5"
  }
 },
 "nbformat": 4,
 "nbformat_minor": 4
}
